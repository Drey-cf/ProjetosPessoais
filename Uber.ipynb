{
 "cells": [
  {
   "cell_type": "code",
   "execution_count": 2,
   "id": "a16a2da0-3367-4a2a-b084-aa9a822730bf",
   "metadata": {},
   "outputs": [
    {
     "name": "stdout",
     "output_type": "stream",
     "text": [
      "Eficiencia preco_gas fatura_por_km      lucro_por_km\n",
      "7            6.4            1.0            \u001b[31m0.07\u001b[0m\n",
      "7            6.4            2.0            \u001b[31m0.87\u001b[0m\n",
      "7            6.4            2.5            \u001b[32m+1.27\u001b[0m\n",
      "7            6.4            3.0            \u001b[32m+1.67\u001b[0m\n",
      "8            6.4            1.0            \u001b[31m0.16\u001b[0m\n",
      "8            6.4            2.0            \u001b[31m0.96\u001b[0m\n",
      "8            6.4            2.5            \u001b[32m+1.36\u001b[0m\n",
      "8            6.4            3.0            \u001b[32m+1.76\u001b[0m\n",
      "9            6.4            1.0            \u001b[31m0.23\u001b[0m\n",
      "9            6.4            2.0            \u001b[31m1.03\u001b[0m\n",
      "9            6.4            2.5            \u001b[32m+1.43\u001b[0m\n",
      "9            6.4            3.0            \u001b[1;32m+1.83\u001b[0m\n",
      "10            6.4            1.0            \u001b[31m0.29\u001b[0m\n",
      "10            6.4            2.0            \u001b[31m1.09\u001b[0m\n",
      "10            6.4            2.5            \u001b[32m+1.49\u001b[0m\n",
      "10            6.4            3.0            \u001b[1;32m+1.89\u001b[0m\n",
      "11            6.4            1.0            \u001b[31m0.33\u001b[0m\n",
      "11            6.4            2.0            \u001b[31m1.13\u001b[0m\n",
      "11            6.4            2.5            \u001b[32m+1.53\u001b[0m\n",
      "11            6.4            3.0            \u001b[1;32m+1.93\u001b[0m\n",
      "12            6.4            1.0            \u001b[31m0.37\u001b[0m\n",
      "12            6.4            2.0            \u001b[31m1.17\u001b[0m\n",
      "12            6.4            2.5            \u001b[32m+1.57\u001b[0m\n",
      "12            6.4            3.0            \u001b[1;32m+1.97\u001b[0m\n",
      "13            6.4            1.0            \u001b[31m0.41\u001b[0m\n",
      "13            6.4            2.0            \u001b[32m+1.21\u001b[0m\n",
      "13            6.4            2.5            \u001b[32m+1.61\u001b[0m\n",
      "13            6.4            3.0            \u001b[1;32m+2.01\u001b[0m\n",
      "14            6.4            1.0            \u001b[31m0.43\u001b[0m\n",
      "14            6.4            2.0            \u001b[32m+1.23\u001b[0m\n",
      "14            6.4            2.5            \u001b[32m+1.63\u001b[0m\n",
      "14            6.4            3.0            \u001b[1;32m+2.03\u001b[0m\n",
      "15            6.4            1.0            \u001b[31m0.46\u001b[0m\n",
      "15            6.4            2.0            \u001b[32m+1.26\u001b[0m\n",
      "15            6.4            2.5            \u001b[32m+1.66\u001b[0m\n",
      "15            6.4            3.0            \u001b[1;32m+2.06\u001b[0m\n"
     ]
    }
   ],
   "source": [
    "# No momento, estou trabalhando como motorista da Uber, mas quero ter uma ideia de quais corridas devo aceitar. Pensando nisso, escolhi as seguintes variáveis que tenho acesso\n",
    "# relativamente fácil para calcular o lucro por km.\n",
    "\n",
    "eficiencia = [i for i in range(7, 16)]  # Meu carro costuma fazer de 10 a 12 km/l, mas varia muito e eu quero verificar qual seria o mínimo de eficiência para não perder dinheiro\n",
    "preco_gasolina = 6.4  # No dia que criei estava esse valor \n",
    "fatura_por_km = [1.0, 2.0, 2.5, 3.0]  # Pensei nesses valores para ter uma ideia. Concluí que, no horários que trabalho, que são das 14h - 18h, as corridas ficam, em média,\n",
    "                                      # em torno de 2 R$/km mas não aceito menos que isso\n",
    "\n",
    "print('Eficiencia preco_gas fatura_por_km      lucro_por_km')\n",
    "\n",
    "for ef in eficiencia:\n",
    "    for fat in fatura_por_km:\n",
    "        lucro_por_km = 0.8*(fat - preco_gasolina/ef)  # Fiz umas contas no caderno e concluí que essa equação diz o lucro em função das variáveis consideradas.\n",
    "                                                   # Além disso, como a Uber pega 20% do valor (no dia que fiz o codigo) multipliquei por 0.8\n",
    "        if lucro_por_km < 1.2:  # Estabeleci esse limite arbitratiamente. Na real, seria 1.0, mas o transito é estressante, então aumentei o valor.\n",
    "            print(ef, preco_gasolina, fat, f\"\\033[31m{round(lucro_por_km, 2)}\\033[0m\", sep = '            ')  \n",
    "        elif lucro_por_km < 1.8:  # A partir daqui é mais aceitável\n",
    "            print(ef, preco_gasolina, fat, f\"\\033[32m+{round(lucro_por_km, 2)}\\033[0m\", sep = '            ')\n",
    "        else: \n",
    "            print(ef, preco_gasolina, fat, f\"\\033[1;32m+{round(lucro_por_km, 2)}\\033[0m\", sep = '            ')\n",
    "\n",
    "'''Considerando que meu carro faz de 10 a 12 km/l, pude concluir que, no geral, eu não saio perdendo. \n",
    "Além disso, pude ver que corridas que oferecem fatura menor que 2 R$/km já estão abaixo do meu limite estabelecido, \n",
    "então decidi não aceitar mais essas corridas enquanto trabalho.'''"
   ]
  }
 ],
 "metadata": {
  "kernelspec": {
   "display_name": "Python 3 (ipykernel)",
   "language": "python",
   "name": "python3"
  },
  "language_info": {
   "codemirror_mode": {
    "name": "ipython",
    "version": 3
   },
   "file_extension": ".py",
   "mimetype": "text/x-python",
   "name": "python",
   "nbconvert_exporter": "python",
   "pygments_lexer": "ipython3",
   "version": "3.9.13"
  }
 },
 "nbformat": 4,
 "nbformat_minor": 5
}
